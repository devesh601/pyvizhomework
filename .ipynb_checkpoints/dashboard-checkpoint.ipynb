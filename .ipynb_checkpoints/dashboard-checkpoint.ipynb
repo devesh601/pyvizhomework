{
 "cells": [
  {
   "cell_type": "markdown",
   "metadata": {},
   "source": [
    "# Toronto Dwellings Analysis Dashboard\n",
    "\n",
    "In this notebook, you will compile the visualizations from the previous analysis into functions to create a Panel dashboard."
   ]
  },
  {
   "cell_type": "code",
   "execution_count": 2,
   "metadata": {},
   "outputs": [],
   "source": [
    "# imports\n",
    "import panel as pn\n",
    "pn.extension('plotly')\n",
    "import plotly.express as px\n",
    "import pandas as pd\n",
    "import hvplot.pandas\n",
    "import matplotlib.pyplot as plt\n",
    "import os\n",
    "from pathlib import Path\n",
    "from dotenv import load_dotenv\n",
    "import numpy as np"
   ]
  },
  {
   "cell_type": "code",
   "execution_count": 3,
   "metadata": {},
   "outputs": [],
   "source": [
    "# Initialize the Panel Extensions (for Plotly)\n",
    "import panel as pn\n",
    "pn.extension(\"plotly\")"
   ]
  },
  {
   "cell_type": "code",
   "execution_count": 4,
   "metadata": {},
   "outputs": [],
   "source": [
    "# Read the Mapbox API key\n",
    "load_dotenv()\n",
    "map_box_api = os.getenv(\"mapbox\")\n",
    "px.set_mapbox_access_token(map_box_api)"
   ]
  },
  {
   "cell_type": "markdown",
   "metadata": {},
   "source": [
    "# Import Data"
   ]
  },
  {
   "cell_type": "code",
   "execution_count": 24,
   "metadata": {},
   "outputs": [],
   "source": [
    "# Import the CSVs to Pandas DataFrames\n",
    "file_path = Path(\"toronto_neighbourhoods_census_data.csv\")\n",
    "to_data = pd.read_csv(file_path, index_col=\"year\")\n",
    "\n",
    "file_path = Path(\"toronto_neighbourhoods_coordinates.csv\")\n",
    "df_neighbourhood_locations = pd.read_csv(file_path)"
   ]
  },
  {
   "cell_type": "markdown",
   "metadata": {},
   "source": [
    "- - -"
   ]
  },
  {
   "cell_type": "markdown",
   "metadata": {},
   "source": [
    "## Panel Visualizations\n",
    "\n",
    "In this section, you will copy the code for each plot type from your analysis notebook and place it into separate functions that Panel can use to create panes for the dashboard. \n",
    "\n",
    "These functions will convert the plot object to a Panel pane.\n",
    "\n",
    "Be sure to include any DataFrame transformation/manipulation code required along with the plotting code.\n",
    "\n",
    "Return a Panel pane object from each function that can be used to build the dashboard.\n",
    "\n",
    "Note: Remove any `.show()` lines from the code. We want to return the plots instead of showing them. The Panel dashboard will then display the plots."
   ]
  },
  {
   "cell_type": "markdown",
   "metadata": {},
   "source": [
    "### Global available data"
   ]
  },
  {
   "cell_type": "code",
   "execution_count": 25,
   "metadata": {},
   "outputs": [],
   "source": [
    "# Getting the data from the top 10 expensive neighbourhoods\n",
    "top_10 = to_data.groupby('neighbourhood').mean().sort_values(by='average_house_value',ascending = False)\n",
    "\n",
    "# Calculate the mean number of dwelling types units per year\n",
    "Avg_number_dwelling = to_data.iloc[: , :-3]\n",
    "\n",
    "# Calculate the average monthly shelter costs for owned and rented dwellings\n",
    "d1 = to_data[to_data.columns[-2:]]\n",
    "\n",
    "to_data_3 = d1.groupby(['year']).mean()\n",
    "d_scr = to_data_3.drop(columns=['shelter_costs_owned'])\n",
    "d_sco = to_data_3.drop(columns=['shelter_costs_rented'])"
   ]
  },
  {
   "cell_type": "markdown",
   "metadata": {},
   "source": [
    "### Panel Visualization Functions"
   ]
  },
  {
   "cell_type": "code",
   "execution_count": 40,
   "metadata": {},
   "outputs": [],
   "source": [
    "# Define Panel visualization functions\n",
    "def neighbourhood_map():\n",
    "    \"\"\"Neighbourhood Map\"\"\"\n",
    "    neighbourhood = to_data.groupby(['neighbourhood']).mean()\n",
    "    neighbourhood.reset_index(inplace = True)\n",
    "    neighbourhood = pd.merge(df_neighbourhood_locations, neighbourhood, on= 'neighbourhood')\n",
    "    px.set_mapbox_access_token(map_box_api)\n",
    "    scatter_map = px.scatter_mapbox(neighbourhood,\n",
    "                                    lat='lat',\n",
    "                                    lon='lon',\n",
    "                                    size='average_house_value',\n",
    "                                    color='shelter_costs_owned',\n",
    "                                    size_max=15,\n",
    "                                    zoom=11,\n",
    "                                    hover_name='neighbourhood',\n",
    "                                    title='Average House Values in Toronto',\n",
    "                                   )\n",
    "    return scatter_map"
   ]
  },
  {
   "cell_type": "code",
   "execution_count": 42,
   "metadata": {},
   "outputs": [],
   "source": [
    "def create_bar_chart():\n",
    "    \"\"\"\n",
    "    Create a barplot based in the data argument.\n",
    "    \"\"\"\n",
    "    d_2001 = to_data_2.drop([2006,2011,2016])\n",
    "    d_2001.transpose().plot.bar(title=\"Dwelling Types in Toronto in 2001\",color ='r')\n",
    "\n",
    "    # Bar chart for 2006\n",
    "    d_2006 = to_data_2.drop([2001,2011,2016])\n",
    "    d_2006.transpose().plot.bar(title=\"Dwelling Types in Toronto in 2006\",color ='b')\n",
    "\n",
    "    # Bar chart for 2011\n",
    "    d_2011 = to_data_2.drop([2001,2006,2016])\n",
    "    d_2011.transpose().plot.bar(title=\"Dwelling Types in Toronto in 2011\",color='orange')\n",
    "\n",
    "    # Bar chart for 2016\n",
    "    d_2016 = to_data_2.drop([2001,2006,2011])\n",
    "    d_2016.transpose().plot.bar(title=\"Dwelling Types in Toronto in 2016\", color='purple')\n",
    "    \n",
    "    return create_bar_chart"
   ]
  },
  {
   "cell_type": "code",
   "execution_count": 28,
   "metadata": {},
   "outputs": [],
   "source": [
    "def create_line_chart():\n",
    "    \"\"\"\n",
    "    Create a line chart based in the data argument.\n",
    "    \"\"\"\n",
    "    d_sco.plot.line(title=\"Average Monthly Shelter Cost for owned Dwellings in Toronto\",legend=None)\n",
    "# Line chart for rented dwellings\n",
    "    d_scr.plot.line(title=\"Average Monthly Shelter Cost for rented Dwellings in Toronto\",legend=None)\n",
    "\n",
    "    \n",
    "    return create_line_chart"
   ]
  },
  {
   "cell_type": "code",
   "execution_count": 29,
   "metadata": {},
   "outputs": [],
   "source": [
    "def average_house_value():\n",
    "    \"\"\"Average house values per year.\"\"\"\n",
    "    \n",
    "    to_data_5 = to_data['average_house_value'].groupby(['year']).mean()\n",
    "    #to_data_6 = to_data_5.drop(to_data_5.columns[[0,1,2,3,4,5,6,7,9,10]], axis = 1)\n",
    "    to_data_5.plot.bar(xlabel='Year',ylabel='Avg House Value')\n",
    "    return average_house_value"
   ]
  },
  {
   "cell_type": "code",
   "execution_count": 30,
   "metadata": {},
   "outputs": [],
   "source": [
    "def average_value_by_neighbourhood():\n",
    "    \"\"\"Average house values by neighbourhood.\"\"\"\n",
    "    avg_value_of_house = to_data[['neighbourhood', 'average_house_value']]\n",
    "    avg_value_of_house.columns = ['neighbourhood', 'Average House Value']\n",
    "    avg_value_of_house.index.names = ['Year']\n",
    "    avg_value_of_house.hvplot(\n",
    "    x='Year',\n",
    "    y='Average House Value',\n",
    "    groupby = 'neighbourhood',\n",
    "    yformatter='%0f'\n",
    "    )\n",
    "    return average_value_by_neighbourhood"
   ]
  },
  {
   "cell_type": "code",
   "execution_count": 31,
   "metadata": {},
   "outputs": [],
   "source": [
    "def number_dwelling_types():\n",
    "    \"\"\"Number of dwelling types per year\"\"\"\n",
    "    \n",
    "    Avg_number_dwelling = to_data.iloc[: , :-3]\n",
    "    Avg_number_dwelling.hvplot.bar(\n",
    "    groupby = 'neighbourhood',\n",
    "    yformatter='%0f'\n",
    "    )\n",
    "    return number_dwelling_types"
   ]
  },
  {
   "cell_type": "code",
   "execution_count": 32,
   "metadata": {},
   "outputs": [],
   "source": [
    "def average_house_value_snapshot():\n",
    "    \"\"\"Average house value for all Toronto's neighbourhoods per year.\"\"\"\n",
    "\n",
    "    avg_value_of_house = to_data[['neighbourhood', 'average_house_value']]\n",
    "    avg_value_of_house.columns = ['neighbourhood', 'Average House Value']\n",
    "    avg_value_of_house.index.names = ['Year']\n",
    "    avg_value_of_house.hvplot(\n",
    "        x='Year',\n",
    "        xlabel= 'Year',\n",
    "        y='average_house_value',\n",
    "        ylabel ='Avg. House Value',\n",
    "        grouby = 'neighbourhood',\n",
    "        kind ='bar',\n",
    "        stacked= False)\n",
    "    return average_house_value_snapshot"
   ]
  },
  {
   "cell_type": "code",
   "execution_count": 35,
   "metadata": {},
   "outputs": [],
   "source": [
    "def top_most_expensive_neighbourhoods():\n",
    "    \"\"\"Top 10 most expensive neighbourhoods.\"\"\"\n",
    "    \n",
    "    top_10.hvplot.bar(\n",
    "        x='neighbourhood',\n",
    "        xlabel='neighbourhood',\n",
    "        y='average_house_value',\n",
    "        ylabel= \"Avg. House Value\",\n",
    "        title =\"Top 10 Expensive Neighbourhoods in Toronto\",\n",
    "        height=500,\n",
    "        rot=46)\n",
    "    return top_most_expensive_neighbourhoods"
   ]
  },
  {
   "cell_type": "code",
   "execution_count": 36,
   "metadata": {},
   "outputs": [],
   "source": [
    "def sunburts_cost_analysis():\n",
    "    \"\"\"Sunburst chart to conduct a costs analysis of most expensive neighbourhoods in Toronto per year.\"\"\"\n",
    "    \n",
    "    most_expensive_homes = to_data.drop([\n",
    "        'single_detached_house',\n",
    "        'apartment_five_storeys_plus',\n",
    "        'movable_dwelling',\n",
    "        'semi_detached_house',\n",
    "        'row_house', 'duplex',\n",
    "        'apartment_five_storeys_less',\n",
    "        'other_house',\n",
    "        'average_house_value'\n",
    "        ], axis = 1)\n",
    "    fig = px.sunburst(most_expensive_homes,path=['neighbourhood', 'year'],\n",
    "            values='neighbourhood', \n",
    "            color=['shelter_costs_owned','shelter_costs_rented'], \n",
    "            hover_data=['iso_alpha'],\n",
    "            color_continuous_scale='RdBu')\n",
    "    \n",
    "    return sunburts_costs_analysis"
   ]
  },
  {
   "cell_type": "markdown",
   "metadata": {},
   "source": [
    "## Panel Dashboard\n",
    "\n",
    "In this section, you will combine all of the plots into a single dashboard view using Panel. Be creative with your dashboard design!"
   ]
  },
  {
   "cell_type": "code",
   "execution_count": 43,
   "metadata": {},
   "outputs": [
    {
     "ename": "TypeError",
     "evalue": "'Column' object is not callable",
     "output_type": "error",
     "traceback": [
      "\u001b[1;31m---------------------------------------------------------------------------\u001b[0m",
      "\u001b[1;31mTypeError\u001b[0m                                 Traceback (most recent call last)",
      "\u001b[1;32m~\\AppData\\Local\\Temp/ipykernel_34368/416107089.py\u001b[0m in \u001b[0;36m<module>\u001b[1;34m\u001b[0m\n\u001b[0;32m      7\u001b[0m \u001b[1;31m# Create a tab layout for the dashboard\u001b[0m\u001b[1;33m\u001b[0m\u001b[1;33m\u001b[0m\u001b[1;33m\u001b[0m\u001b[0m\n\u001b[0;32m      8\u001b[0m \u001b[1;33m\u001b[0m\u001b[0m\n\u001b[1;32m----> 9\u001b[1;33m \u001b[0mneighbourhood_map\u001b[0m \u001b[1;33m=\u001b[0m \u001b[0mpn\u001b[0m\u001b[1;33m.\u001b[0m\u001b[0mColumn\u001b[0m\u001b[1;33m(\u001b[0m\u001b[0mneighbourhood_map\u001b[0m\u001b[1;33m(\u001b[0m\u001b[1;33m)\u001b[0m\u001b[1;33m)\u001b[0m\u001b[1;33m\u001b[0m\u001b[1;33m\u001b[0m\u001b[0m\n\u001b[0m\u001b[0;32m     10\u001b[0m \u001b[1;33m\u001b[0m\u001b[0m\n\u001b[0;32m     11\u001b[0m create_bar_chart = pn.Column(\n",
      "\u001b[1;31mTypeError\u001b[0m: 'Column' object is not callable"
     ]
    }
   ],
   "source": [
    "# Create a Title for the Dashboard\n",
    "title = '#Toronto Real Estate Analysis from 2001 - 2016'\n",
    "\n",
    "# Define a welcome text\n",
    "#welcome_tab = pn.Row(pn.Column(title), neighbourhood_map())\n",
    "\n",
    "# Create a tab layout for the dashboard\n",
    "\n",
    "neighbourhood_map = pn.Column(neighbourhood_map())\n",
    "\n",
    "create_bar_chart = pn.Column(\n",
    "    create_bar_chart()\n",
    ")\n",
    "\n",
    "create_line_chart = pn.Column(\n",
    "    create_line_chart()\n",
    ")\n",
    "\n",
    "average_house_value = pn.Column(\n",
    "    average_house_value()\n",
    ")\n",
    "\n",
    "average_value_by_neighbourhood = pn.Column(\n",
    "    average_value_by_neighbourhood()\n",
    ")\n",
    "\n",
    "number_dwelling_types = pn.Column(\n",
    "    number_dwelling_types()\n",
    ")\n",
    "\n",
    "average_house_value_snapshot = pn.Columm(\n",
    "    average_house_value_snapshot()\n",
    ")\n",
    "\n",
    "top_10_most_expensive = pn.Column(\n",
    "    top_10_most_expensive_neighbourhoods()\n",
    ")\n",
    "\n",
    "sunburts_costs_analysis = pn.Column(\n",
    "    sunburts_costs_analysis()\n",
    ")\n",
    "\n",
    "# # Create the main dashboard\n",
    "\n",
    "panel = pn.Tabs((\"Welcome!\", welcome_tab),\n",
    "                (\"Neighbourhood Map\", neighbourhood_map),\n",
    "                (\"Home Types by Year\", create_bar_chart),\n",
    "                (\"Average Monthly Shelter Cost for Torontonians\", create_line_chart),\n",
    "                (\"Toronto House Values\", average_house_value),\n",
    "                (\"Average Home Value by Neighbourhood\", average_value_by_neighbourhood),\n",
    "                (\"Toronto Home Styles\", number_dwelling_types),\n",
    "                (\"Compare Toronto Housing Market\", average_house_value_snapshot),\n",
    "                (\"Top Most Expensive Neighbourhoods\", top_10_most_expensive),\n",
    "                (\"Interative Toronto Housing Market Map\" , sunburts_costs_analysis)\n",
    "                )"
   ]
  },
  {
   "cell_type": "markdown",
   "metadata": {},
   "source": [
    "## Serve the Panel Dashboard"
   ]
  },
  {
   "cell_type": "code",
   "execution_count": null,
   "metadata": {},
   "outputs": [],
   "source": [
    "dashboard.servable()"
   ]
  },
  {
   "cell_type": "markdown",
   "metadata": {},
   "source": [
    "# Debugging\n",
    "\n",
    "Note: Some of the Plotly express plots may not render in the notebook through the panel functions.\n",
    "\n",
    "However, you can test each plot by uncommenting the following code"
   ]
  },
  {
   "cell_type": "code",
   "execution_count": null,
   "metadata": {},
   "outputs": [],
   "source": [
    "# neighbourhood_map().show()"
   ]
  },
  {
   "cell_type": "code",
   "execution_count": null,
   "metadata": {},
   "outputs": [],
   "source": [
    "# create_bar_chart(data, title, xlabel, ylabel, color)\n",
    "\n",
    "# # Bar chart for 2001\n",
    "# create_bar_chart(df_dwelling_units.loc[2001], \"Dwelling Types in Toronto in 2001\", \"2001\", \"Dwelling Type Units\", \"red\")\n",
    "\n",
    "# # Bar chart for 2006\n",
    "# create_bar_chart(df_dwelling_units.loc[2006], \"Dwelling Types in Toronto in 2006\", \"2006\", \"Dwelling Type Units\", \"blue\")\n",
    "\n",
    "# # Bar chart for 2011\n",
    "# create_bar_chart(df_dwelling_units.loc[2011], \"Dwelling Types in Toronto in 2011\", \"2011\", \"Dwelling Type Units\", \"orange\")\n",
    "\n",
    "# # Bar chart for 2016\n",
    "# create_bar_chart(df_dwelling_units.loc[2016], \"Dwelling Types in Toronto in 2016\", \"2016\", \"Dwelling Type Units\", \"magenta\")"
   ]
  },
  {
   "cell_type": "code",
   "execution_count": null,
   "metadata": {},
   "outputs": [],
   "source": [
    "# create_line_chart(data, title, xlabel, ylabel, color)\n",
    "\n",
    "# # Line chart for owned dwellings\n",
    "# create_line_chart(df_avg_costs[\"shelter_costs_owned\"], \"Average Monthly Shelter Cost for Owned Dwellings in Toronto\", \"Year\", \"Avg Monthly Shelter Costs\", \"blue\")\n",
    "\n",
    "# # Line chart for rented dwellings\n",
    "# create_line_chart(df_avg_costs[\"shelter_costs_rented\"], \"Average Monthly Shelter Cost for Rented Dwellings in Toronto\", \"Year\", \"Avg Monthly Shelter Costs\", \"orange\")"
   ]
  },
  {
   "cell_type": "code",
   "execution_count": null,
   "metadata": {},
   "outputs": [],
   "source": [
    "# average_house_value()"
   ]
  },
  {
   "cell_type": "code",
   "execution_count": null,
   "metadata": {},
   "outputs": [],
   "source": [
    "# average_value_by_neighbourhood()"
   ]
  },
  {
   "cell_type": "code",
   "execution_count": null,
   "metadata": {},
   "outputs": [],
   "source": [
    "# number_dwelling_types()"
   ]
  },
  {
   "cell_type": "code",
   "execution_count": null,
   "metadata": {},
   "outputs": [],
   "source": [
    "# average_house_value_snapshot()"
   ]
  },
  {
   "cell_type": "code",
   "execution_count": null,
   "metadata": {},
   "outputs": [],
   "source": [
    "# top_most_expensive_neighbourhoods()"
   ]
  },
  {
   "cell_type": "code",
   "execution_count": null,
   "metadata": {},
   "outputs": [],
   "source": [
    "# sunburts_cost_analysis()"
   ]
  }
 ],
 "metadata": {
  "file_extension": ".py",
  "kernelspec": {
   "display_name": "Python [conda env:pyvizenv2] *",
   "language": "python",
   "name": "conda-env-pyvizenv2-py"
  },
  "language_info": {
   "codemirror_mode": {
    "name": "ipython",
    "version": 3
   },
   "file_extension": ".py",
   "mimetype": "text/x-python",
   "name": "python",
   "nbconvert_exporter": "python",
   "pygments_lexer": "ipython3",
   "version": "3.7.11"
  },
  "mimetype": "text/x-python",
  "name": "python",
  "npconvert_exporter": "python",
  "pygments_lexer": "ipython3",
  "version": 3
 },
 "nbformat": 4,
 "nbformat_minor": 4
}
